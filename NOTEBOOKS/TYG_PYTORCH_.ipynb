{
  "nbformat": 4,
  "nbformat_minor": 0,
  "metadata": {
    "colab": {
      "provenance": [],
      "gpuType": "T4"
    },
    "kernelspec": {
      "name": "python3",
      "display_name": "Python 3"
    },
    "language_info": {
      "name": "python"
    },
    "accelerator": "GPU"
  },
  "cells": [
    {
      "cell_type": "code",
      "execution_count": null,
      "metadata": {
        "id": "P9FelBD4iauX"
      },
      "outputs": [],
      "source": [
        "import torch"
      ]
    },
    {
      "cell_type": "code",
      "source": [
        "tensor1 = torch.tensor([1, 2, 3, 4])"
      ],
      "metadata": {
        "id": "XfHHBZUGpKj1"
      },
      "execution_count": null,
      "outputs": []
    },
    {
      "cell_type": "markdown",
      "source": [],
      "metadata": {
        "id": "aFA1poDoIJ6u"
      }
    },
    {
      "cell_type": "code",
      "source": [
        "print(tensor1)"
      ],
      "metadata": {
        "colab": {
          "base_uri": "https://localhost:8080/"
        },
        "id": "SVUZBBHZpip4",
        "outputId": "d28fa5bd-a90e-4aeb-e303-b9e75f8b4df3"
      },
      "execution_count": null,
      "outputs": [
        {
          "output_type": "stream",
          "name": "stdout",
          "text": [
            "tensor([1, 2, 3, 4])\n"
          ]
        }
      ]
    },
    {
      "cell_type": "code",
      "source": [
        "tensor2 = torch.rand(2,3)"
      ],
      "metadata": {
        "id": "UtmNKHlHpzF2"
      },
      "execution_count": null,
      "outputs": []
    },
    {
      "cell_type": "code",
      "source": [
        "print(tensor2)"
      ],
      "metadata": {
        "colab": {
          "base_uri": "https://localhost:8080/"
        },
        "id": "CSjBwSJOp3RY",
        "outputId": "4a200d8a-e0b7-43d6-f439-fda357816fc0"
      },
      "execution_count": null,
      "outputs": [
        {
          "output_type": "stream",
          "name": "stdout",
          "text": [
            "tensor([[0.1699, 0.1527, 0.0899],\n",
            "        [0.3207, 0.7431, 0.0673]])\n"
          ]
        }
      ]
    },
    {
      "cell_type": "code",
      "source": [
        "tensor3 = torch.zeros(3,3)"
      ],
      "metadata": {
        "id": "coOLHVx_p9bO"
      },
      "execution_count": null,
      "outputs": []
    },
    {
      "cell_type": "code",
      "source": [
        "print(tensor3)"
      ],
      "metadata": {
        "colab": {
          "base_uri": "https://localhost:8080/"
        },
        "id": "F6L3oPVwqBPx",
        "outputId": "f3aa1a52-c94b-4099-be23-58f417184e30"
      },
      "execution_count": null,
      "outputs": [
        {
          "output_type": "stream",
          "name": "stdout",
          "text": [
            "tensor([[0., 0., 0.],\n",
            "        [0., 0., 0.],\n",
            "        [0., 0., 0.]])\n"
          ]
        }
      ]
    },
    {
      "cell_type": "markdown",
      "source": [
        "Broadcasting"
      ],
      "metadata": {
        "id": "og94pXVarCDg"
      }
    },
    {
      "cell_type": "code",
      "source": [
        "result1 = tensor1 + 5"
      ],
      "metadata": {
        "id": "NAYrYxtGrDjT"
      },
      "execution_count": null,
      "outputs": []
    },
    {
      "cell_type": "code",
      "source": [
        "print(result1)"
      ],
      "metadata": {
        "colab": {
          "base_uri": "https://localhost:8080/"
        },
        "id": "JCYAcP-mrJq-",
        "outputId": "c8cbbdce-7864-4d80-aa30-585e3a44f237"
      },
      "execution_count": null,
      "outputs": [
        {
          "output_type": "stream",
          "name": "stdout",
          "text": [
            "tensor([6, 7, 8, 9])\n"
          ]
        }
      ]
    },
    {
      "cell_type": "code",
      "source": [
        "result2 = tensor2 *3"
      ],
      "metadata": {
        "id": "y-XjvaNnrRj9"
      },
      "execution_count": null,
      "outputs": []
    },
    {
      "cell_type": "code",
      "source": [
        "print(result2)"
      ],
      "metadata": {
        "colab": {
          "base_uri": "https://localhost:8080/"
        },
        "id": "nPjC8hjvrVLl",
        "outputId": "3bcdff50-717a-474a-d8f5-130a5b38e8ef"
      },
      "execution_count": null,
      "outputs": [
        {
          "output_type": "stream",
          "name": "stdout",
          "text": [
            "tensor([[0.5098, 0.4581, 0.2697],\n",
            "        [0.9620, 2.2292, 0.2020]])\n"
          ]
        }
      ]
    },
    {
      "cell_type": "markdown",
      "source": [
        "MAtrix Multiplication"
      ],
      "metadata": {
        "id": "_ijBA1irrW8t"
      }
    },
    {
      "cell_type": "code",
      "source": [
        "matrix1 = torch.rand((2,3))\n",
        "matrix2 = torch.rand((3,1))\n",
        "\n",
        "# output should be 2x1\n",
        "# 2 rows and 1 column\n",
        "result3 = matrix1.matmul(matrix2)\n",
        "print(result3)"
      ],
      "metadata": {
        "colab": {
          "base_uri": "https://localhost:8080/"
        },
        "id": "1_uUw7h-rYkK",
        "outputId": "7a597dda-db08-450b-fc19-df4515e96b14"
      },
      "execution_count": null,
      "outputs": [
        {
          "output_type": "stream",
          "name": "stdout",
          "text": [
            "tensor([[0.6176],\n",
            "        [0.5823]])\n"
          ]
        }
      ]
    },
    {
      "cell_type": "markdown",
      "source": [],
      "metadata": {
        "id": "0qa6BYTVr7CU"
      }
    },
    {
      "cell_type": "code",
      "source": [
        "from torch.utils.data import DataLoader, Dataset"
      ],
      "metadata": {
        "id": "kJLSV-Fqr7K0"
      },
      "execution_count": null,
      "outputs": []
    },
    {
      "cell_type": "code",
      "source": [
        "class MyDataset(Dataset):\n",
        "  def __init__(self):\n",
        "    # 100 data points, 5 features\n",
        "    # n_rows x n_cols\n",
        "    self.data = torch.rand((100, 5))\n",
        "\n",
        "    # labels would be integers between 0 and 1\n",
        "    # So upper bound (non-inclusive) would be 2\n",
        "    # low_range, hi_range, shape => 1D vector with 100 labels\n",
        "    self.labels = torch.randint(0, 2,(100,))\n",
        "\n",
        "  def __len__(self):\n",
        "    return len(self.data)\n",
        "\n",
        "\n",
        "  def __getitem__(self, idx):\n",
        "    \"\"\"\n",
        "\n",
        "    Args:\n",
        "      idx:\n",
        "\n",
        "    Returns:\n",
        "\n",
        "    \"\"\"\n",
        "    # return  data, corresponding label\n",
        "    return self.data[idx], self.labels[idx]\n"
      ],
      "metadata": {
        "id": "EKZHxxr2sGwr"
      },
      "execution_count": null,
      "outputs": []
    },
    {
      "cell_type": "code",
      "source": [
        "dataset = MyDataset()\n",
        "dataloader = DataLoader(dataset, batch_size = 10, shuffle = True)"
      ],
      "metadata": {
        "id": "e5yizAjTCrPu"
      },
      "execution_count": null,
      "outputs": []
    },
    {
      "cell_type": "code",
      "source": [
        "# Iterate through the dataloader\n",
        "\n",
        "for batch_idx, (features, labels) in enumerate(dataloader):\n",
        "  print(f\"Batch {batch_idx+1}\")\n",
        "  print(\"Features:\", features)\n",
        "  print(\"Labels:\", labels)\n"
      ],
      "metadata": {
        "colab": {
          "base_uri": "https://localhost:8080/"
        },
        "id": "dC7BF8ewDW6q",
        "outputId": "bf80b5c3-62a7-479d-fedd-2438bea0d597"
      },
      "execution_count": null,
      "outputs": [
        {
          "output_type": "stream",
          "name": "stdout",
          "text": [
            "Batch 1\n",
            "Features: tensor([[0.2956, 0.5921, 0.7913, 0.1804, 0.9746],\n",
            "        [0.3376, 0.9602, 0.6841, 0.7531, 0.5780],\n",
            "        [0.1619, 0.3553, 0.3861, 0.7500, 0.1725],\n",
            "        [0.2213, 0.9107, 0.4161, 0.4716, 0.2196],\n",
            "        [0.0556, 0.5054, 0.3131, 0.3479, 0.9775],\n",
            "        [0.1051, 0.5538, 0.8352, 0.1392, 0.3564],\n",
            "        [0.8557, 0.9997, 0.0204, 0.4362, 0.5478],\n",
            "        [0.8502, 0.1523, 0.9537, 0.7420, 0.0557],\n",
            "        [0.3190, 0.5240, 0.9180, 0.6099, 0.4614],\n",
            "        [0.6100, 0.4909, 0.0134, 0.8335, 0.6031]])\n",
            "Labels: tensor([1, 1, 1, 0, 1, 1, 1, 0, 1, 0])\n",
            "Batch 2\n",
            "Features: tensor([[0.0884, 0.3301, 0.9439, 0.4779, 0.6844],\n",
            "        [0.2876, 0.6699, 0.6992, 0.3782, 0.8498],\n",
            "        [0.9382, 0.6629, 0.0297, 0.9481, 0.3536],\n",
            "        [0.5426, 0.9914, 0.8055, 0.8196, 0.5907],\n",
            "        [0.5085, 0.3753, 0.5553, 0.7129, 0.5241],\n",
            "        [0.2071, 0.7660, 0.6635, 0.4027, 0.9842],\n",
            "        [0.2082, 0.2684, 0.6792, 0.3298, 0.8215],\n",
            "        [0.5349, 0.5158, 0.6345, 0.6948, 0.4543],\n",
            "        [0.7116, 0.1669, 0.6871, 0.4675, 0.9119],\n",
            "        [0.6287, 0.7314, 0.8105, 0.0345, 0.8147]])\n",
            "Labels: tensor([1, 0, 1, 0, 1, 0, 1, 0, 0, 0])\n",
            "Batch 3\n",
            "Features: tensor([[0.6978, 0.8923, 0.0559, 0.1963, 0.0075],\n",
            "        [0.8362, 0.8594, 0.8397, 0.5416, 0.2573],\n",
            "        [0.5026, 0.6508, 0.9495, 0.6006, 0.3729],\n",
            "        [0.5882, 0.2372, 0.6018, 0.3345, 0.5129],\n",
            "        [0.3056, 0.0576, 0.4904, 0.1810, 0.1040],\n",
            "        [0.4657, 0.5496, 0.7183, 0.5341, 0.6006],\n",
            "        [0.9958, 0.8660, 0.9152, 0.1965, 0.2078],\n",
            "        [0.2297, 0.9817, 0.9236, 0.9819, 0.8506],\n",
            "        [0.6066, 0.4392, 0.3856, 0.3681, 0.3356],\n",
            "        [0.9889, 0.4796, 0.0984, 0.4694, 0.7019]])\n",
            "Labels: tensor([0, 1, 0, 0, 0, 1, 0, 0, 1, 1])\n",
            "Batch 4\n",
            "Features: tensor([[0.2116, 0.3577, 0.8025, 0.5302, 0.5726],\n",
            "        [0.1297, 0.9533, 0.0842, 0.8931, 0.1896],\n",
            "        [0.9510, 0.1524, 0.9156, 0.8535, 0.3906],\n",
            "        [0.7081, 0.1853, 0.7969, 0.3957, 0.1403],\n",
            "        [0.2272, 0.6248, 0.4276, 0.4116, 0.6133],\n",
            "        [0.7063, 0.1217, 0.9687, 0.9390, 0.7581],\n",
            "        [0.7484, 0.2501, 0.3051, 0.8821, 0.8482],\n",
            "        [0.3368, 0.1473, 0.0744, 0.7784, 0.9254],\n",
            "        [0.6394, 0.8650, 0.8723, 0.8165, 0.1067],\n",
            "        [0.0402, 0.3132, 0.7761, 0.4821, 0.9638]])\n",
            "Labels: tensor([1, 1, 0, 0, 1, 0, 0, 1, 0, 0])\n",
            "Batch 5\n",
            "Features: tensor([[0.5393, 0.4025, 0.4358, 0.5958, 0.5426],\n",
            "        [0.5199, 0.3705, 0.0676, 0.2551, 0.8414],\n",
            "        [0.4422, 0.7503, 0.5158, 0.3706, 0.4504],\n",
            "        [0.0143, 0.1964, 0.9536, 0.9782, 0.5509],\n",
            "        [0.9859, 0.4637, 0.2614, 0.9878, 0.9405],\n",
            "        [0.7605, 0.8711, 0.0478, 0.6886, 0.1408],\n",
            "        [0.1971, 0.0659, 0.2661, 0.3558, 0.6089],\n",
            "        [0.6507, 0.4209, 0.2348, 0.1279, 0.0793],\n",
            "        [0.3038, 0.2162, 0.6400, 0.5987, 0.2635],\n",
            "        [0.0677, 0.3551, 0.6366, 0.7511, 0.5084]])\n",
            "Labels: tensor([1, 1, 0, 0, 0, 1, 1, 1, 1, 1])\n",
            "Batch 6\n",
            "Features: tensor([[0.3645, 0.5213, 0.0607, 0.4947, 0.1756],\n",
            "        [0.3525, 0.8797, 0.5389, 0.4401, 0.6631],\n",
            "        [0.0500, 0.6429, 0.9548, 0.9328, 0.4838],\n",
            "        [0.4565, 0.7357, 0.9788, 0.8048, 0.9225],\n",
            "        [0.1514, 0.5569, 0.5596, 0.6407, 0.5565],\n",
            "        [0.5045, 0.8921, 0.1993, 0.1119, 0.5958],\n",
            "        [0.8941, 0.6940, 0.3002, 0.7354, 0.1701],\n",
            "        [0.6269, 0.8488, 0.6674, 0.9406, 0.6458],\n",
            "        [0.6447, 0.4793, 0.6698, 0.9353, 0.2732],\n",
            "        [0.7492, 0.9283, 0.2022, 0.5565, 0.7118]])\n",
            "Labels: tensor([1, 0, 0, 1, 0, 1, 1, 0, 0, 1])\n",
            "Batch 7\n",
            "Features: tensor([[0.4376, 0.3674, 0.7892, 0.1901, 0.7477],\n",
            "        [0.0859, 0.1028, 0.9537, 0.7308, 0.9099],\n",
            "        [0.0301, 0.1845, 0.6998, 0.6854, 0.8007],\n",
            "        [0.6030, 0.5318, 0.4699, 0.4869, 0.4130],\n",
            "        [0.6717, 0.5425, 0.0388, 0.6266, 0.1441],\n",
            "        [0.4974, 0.9696, 0.6778, 0.1807, 0.3642],\n",
            "        [0.5918, 0.6216, 0.4133, 0.0660, 0.4885],\n",
            "        [0.9431, 0.8013, 0.7828, 0.3821, 0.4991],\n",
            "        [0.0447, 0.8794, 0.1182, 0.2825, 0.9929],\n",
            "        [0.3878, 0.1120, 0.9242, 0.9677, 0.3701]])\n",
            "Labels: tensor([0, 0, 0, 1, 0, 1, 1, 0, 0, 0])\n",
            "Batch 8\n",
            "Features: tensor([[0.5482, 0.9724, 0.2594, 0.2340, 0.1234],\n",
            "        [0.8148, 0.7982, 0.1770, 0.7169, 0.6375],\n",
            "        [0.6727, 0.7926, 0.2414, 0.3880, 0.7518],\n",
            "        [0.5114, 0.2137, 0.9012, 0.3442, 0.6045],\n",
            "        [0.1036, 0.0117, 0.0675, 0.1062, 0.2109],\n",
            "        [0.1507, 0.6095, 0.4293, 0.7147, 0.5080],\n",
            "        [0.6654, 0.4500, 0.5803, 0.8146, 0.7671],\n",
            "        [0.4191, 0.0818, 0.2801, 0.1190, 0.4873],\n",
            "        [0.7269, 0.3378, 0.6200, 0.3813, 0.1733],\n",
            "        [0.0162, 0.9710, 0.8585, 0.2556, 0.3941]])\n",
            "Labels: tensor([1, 0, 1, 1, 1, 0, 1, 1, 1, 1])\n",
            "Batch 9\n",
            "Features: tensor([[8.8501e-01, 1.0294e-01, 2.9892e-01, 2.8332e-01, 6.1295e-01],\n",
            "        [8.4480e-01, 8.2654e-01, 8.3455e-01, 5.2968e-01, 1.3663e-01],\n",
            "        [9.5518e-02, 1.5902e-01, 7.1559e-02, 5.6996e-01, 9.2938e-01],\n",
            "        [5.0628e-01, 5.5141e-01, 5.6330e-01, 6.4904e-01, 6.5001e-01],\n",
            "        [6.0765e-01, 9.6666e-01, 3.8077e-01, 2.4251e-01, 5.9508e-01],\n",
            "        [7.5787e-01, 1.8445e-01, 1.9311e-01, 7.9691e-04, 8.2692e-01],\n",
            "        [1.7294e-01, 2.3751e-01, 6.6846e-01, 5.6553e-01, 3.3025e-01],\n",
            "        [7.5621e-01, 1.6737e-01, 8.1216e-01, 7.0926e-01, 1.0480e-01],\n",
            "        [6.3904e-01, 4.5289e-01, 1.0549e-01, 8.2186e-01, 1.2757e-01],\n",
            "        [6.1124e-01, 1.7420e-01, 3.3592e-01, 1.3023e-01, 5.9091e-01]])\n",
            "Labels: tensor([0, 0, 0, 1, 1, 1, 1, 1, 1, 0])\n",
            "Batch 10\n",
            "Features: tensor([[4.6596e-01, 5.5743e-01, 6.5868e-01, 6.7050e-01, 8.0873e-01],\n",
            "        [6.5148e-01, 5.5600e-01, 1.2469e-01, 8.6379e-01, 1.9124e-01],\n",
            "        [6.1365e-01, 5.1486e-01, 4.5485e-01, 5.7642e-01, 5.6509e-01],\n",
            "        [7.6899e-01, 2.2602e-01, 8.2930e-01, 4.5175e-01, 4.7245e-01],\n",
            "        [4.6380e-01, 8.4552e-02, 2.5153e-01, 8.2438e-01, 4.0231e-01],\n",
            "        [9.1050e-01, 2.9569e-01, 1.9609e-01, 4.2762e-01, 4.1199e-01],\n",
            "        [4.2182e-01, 7.3091e-01, 3.2015e-01, 8.7109e-01, 6.9341e-01],\n",
            "        [6.9048e-01, 1.7232e-01, 2.3258e-01, 5.4437e-01, 7.1438e-01],\n",
            "        [5.5190e-01, 7.8055e-01, 7.5073e-01, 3.6371e-01, 7.8184e-01],\n",
            "        [2.6288e-01, 3.3335e-01, 3.6929e-01, 3.1298e-04, 1.5641e-01]])\n",
            "Labels: tensor([0, 0, 1, 1, 0, 1, 1, 1, 0, 0])\n"
          ]
        }
      ]
    },
    {
      "cell_type": "markdown",
      "source": [
        "Dealing with numbers and operations"
      ],
      "metadata": {
        "id": "bs67nOTTD50U"
      }
    },
    {
      "cell_type": "code",
      "source": [
        "# scalar value with gradient tracking\n",
        "# torch keeps track of the variable in the computation graph\n",
        "\n",
        "x = torch.tensor(2.0, requires_grad = True)\n",
        "# x = torch.tensor(2.0, requires_grad = False)\n",
        "\n",
        "z = torch.tensor([2.0, 4.1], requires_grad= True)\n",
        "\n",
        "\n",
        "# compute a function [y = x^3]\n",
        "# y = x ** 3\n",
        "y = z[0]**2 + z[1]\n",
        "\n",
        "# compute the gradient dy/dx\n",
        "y.backward()\n",
        "\n",
        "# use .item() for using the value instead of the object\n",
        "# print(\"the gradient is\", x.grad.item())\n",
        "\n",
        "# convert .tolist() / .numpy()\n",
        "print(\"the gradient is\", z.grad)\n",
        "print(\"the gradient is\", z.grad.tolist())\n",
        "\n"
      ],
      "metadata": {
        "colab": {
          "base_uri": "https://localhost:8080/"
        },
        "id": "O64AxYcpD74s",
        "outputId": "357773d0-2d32-4eb0-9640-3956c42f10a5"
      },
      "execution_count": null,
      "outputs": [
        {
          "output_type": "stream",
          "name": "stdout",
          "text": [
            "the gradient is tensor([4., 1.])\n",
            "the gradient is [4.0, 1.0]\n"
          ]
        }
      ]
    },
    {
      "cell_type": "markdown",
      "source": [
        "Operations"
      ],
      "metadata": {
        "id": "-kLKBhbZKozK"
      }
    },
    {
      "cell_type": "code",
      "source": [
        "# Tensor with values from 0 to 9\n",
        "x = torch.arange(0,10).float()\n",
        "y = x**2 + 3*x + 2\n",
        "\n",
        "# efficiently eliminate loops\n",
        "print(\"The value are:\", y.tolist())"
      ],
      "metadata": {
        "colab": {
          "base_uri": "https://localhost:8080/"
        },
        "id": "0VY-VAdmKo84",
        "outputId": "5024861e-5b1c-41a8-8bac-e62003844c1b"
      },
      "execution_count": null,
      "outputs": [
        {
          "output_type": "stream",
          "name": "stdout",
          "text": [
            "The value are: [2.0, 6.0, 12.0, 20.0, 30.0, 42.0, 56.0, 72.0, 90.0, 110.0]\n"
          ]
        }
      ]
    },
    {
      "cell_type": "markdown",
      "source": [
        "Broadcasting"
      ],
      "metadata": {
        "id": "lq6FXsPwLHBU"
      }
    },
    {
      "cell_type": "code",
      "source": [
        "# shape = matrix\n",
        "x = torch.rand((3,4))\n",
        "\n",
        "# shape = vector [1x4]\n",
        "y = torch.rand((4,))\n",
        "\n",
        "result = x + y\n",
        "print(result.shape)\n",
        "\n",
        "\n",
        "print(result.tolist())"
      ],
      "metadata": {
        "colab": {
          "base_uri": "https://localhost:8080/"
        },
        "id": "BB-0QehSLH_j",
        "outputId": "3b6c65ce-3b90-4f60-c24c-2206cc4ea7f2"
      },
      "execution_count": null,
      "outputs": [
        {
          "output_type": "stream",
          "name": "stdout",
          "text": [
            "torch.Size([3, 4])\n",
            "[[0.6904134154319763, 0.43038010597229004, 0.790789783000946, 1.1854450702667236], [1.1602848768234253, 1.0291558504104614, 0.6312147378921509, 1.38645601272583], [0.7209922075271606, 0.4831116795539856, 1.0817900896072388, 0.8606743812561035]]\n"
          ]
        }
      ]
    },
    {
      "cell_type": "code",
      "source": [
        "import torch"
      ],
      "metadata": {
        "id": "kAw1fVqQLl8M"
      },
      "execution_count": null,
      "outputs": []
    },
    {
      "cell_type": "markdown",
      "source": [
        "Neural Network"
      ],
      "metadata": {
        "id": "5q6PFsP2Ogph"
      }
    },
    {
      "cell_type": "code",
      "source": [
        "import torch\n",
        "import torch.nn as nn\n",
        "\n",
        "class SimpleNet(nn.Module):\n",
        "  def __init__(self, input_size, hidden_size, num_classes):\n",
        "    # input shape => (batch_size = 10, num_features = 5)\n",
        "    # Hence input_size = num_features\n",
        "\n",
        "    # hidden_size = 50\n",
        "    # more capacity to learn richer representations\n",
        "\n",
        "    # output shape => (batch_size = 10, num_clases = 2)\n",
        "\n",
        "    super(SimpleNet, self).__init__()\n",
        "    self.fc1 = nn.Linear(input_size, hidden_size)\n",
        "    self.fc2 = nn.Linear(hidden_size, num_classes)\n",
        "\n",
        "  def forward(self, x):\n",
        "    # relu adds non-linearity to\n",
        "    x = torch.relu(self.fc1(x))\n",
        "    x = self.fc2(x)\n",
        "    return x\n",
        "\n",
        "model = SimpleNet(5, 50, 2)\n",
        "\n",
        "# batch of 10 samples, 5 features\n",
        "example_input = torch.rand(10, 5)\n",
        "\n",
        "# forward pass\n",
        "output = model(example_input)\n",
        "\n",
        "\n",
        "\n",
        "print(\"Input Shape: \", example_input.shape)\n",
        "print(\"Output Shape: \", output.shape)\n",
        "\n",
        "\n",
        "\n"
      ],
      "metadata": {
        "colab": {
          "base_uri": "https://localhost:8080/"
        },
        "id": "ZbfIyhQxOi33",
        "outputId": "b2963aa3-504d-4145-c931-8ede39c073a8"
      },
      "execution_count": null,
      "outputs": [
        {
          "output_type": "stream",
          "name": "stdout",
          "text": [
            "Input Shape:  torch.Size([10, 5])\n",
            "Output Shape:  torch.Size([10, 2])\n"
          ]
        }
      ]
    },
    {
      "cell_type": "code",
      "source": [
        "import torch"
      ],
      "metadata": {
        "id": "QtK0o6pWeTEE"
      },
      "execution_count": null,
      "outputs": []
    },
    {
      "cell_type": "markdown",
      "source": [
        "Install transformers"
      ],
      "metadata": {
        "id": "0pIByTnKe0uw"
      }
    },
    {
      "cell_type": "code",
      "source": [
        "!pip install transformers"
      ],
      "metadata": {
        "colab": {
          "base_uri": "https://localhost:8080/"
        },
        "id": "bA_JWF2Ue2Ki",
        "outputId": "d32dcdfb-cc37-4dbc-e0ac-fd3def44b76f"
      },
      "execution_count": null,
      "outputs": [
        {
          "output_type": "stream",
          "name": "stdout",
          "text": [
            "Requirement already satisfied: transformers in /usr/local/lib/python3.10/dist-packages (4.46.2)\n",
            "Requirement already satisfied: filelock in /usr/local/lib/python3.10/dist-packages (from transformers) (3.16.1)\n",
            "Requirement already satisfied: huggingface-hub<1.0,>=0.23.2 in /usr/local/lib/python3.10/dist-packages (from transformers) (0.26.2)\n",
            "Requirement already satisfied: numpy>=1.17 in /usr/local/lib/python3.10/dist-packages (from transformers) (1.26.4)\n",
            "Requirement already satisfied: packaging>=20.0 in /usr/local/lib/python3.10/dist-packages (from transformers) (24.2)\n",
            "Requirement already satisfied: pyyaml>=5.1 in /usr/local/lib/python3.10/dist-packages (from transformers) (6.0.2)\n",
            "Requirement already satisfied: regex!=2019.12.17 in /usr/local/lib/python3.10/dist-packages (from transformers) (2024.9.11)\n",
            "Requirement already satisfied: requests in /usr/local/lib/python3.10/dist-packages (from transformers) (2.32.3)\n",
            "Requirement already satisfied: safetensors>=0.4.1 in /usr/local/lib/python3.10/dist-packages (from transformers) (0.4.5)\n",
            "Requirement already satisfied: tokenizers<0.21,>=0.20 in /usr/local/lib/python3.10/dist-packages (from transformers) (0.20.3)\n",
            "Requirement already satisfied: tqdm>=4.27 in /usr/local/lib/python3.10/dist-packages (from transformers) (4.66.6)\n",
            "Requirement already satisfied: fsspec>=2023.5.0 in /usr/local/lib/python3.10/dist-packages (from huggingface-hub<1.0,>=0.23.2->transformers) (2024.10.0)\n",
            "Requirement already satisfied: typing-extensions>=3.7.4.3 in /usr/local/lib/python3.10/dist-packages (from huggingface-hub<1.0,>=0.23.2->transformers) (4.12.2)\n",
            "Requirement already satisfied: charset-normalizer<4,>=2 in /usr/local/lib/python3.10/dist-packages (from requests->transformers) (3.4.0)\n",
            "Requirement already satisfied: idna<4,>=2.5 in /usr/local/lib/python3.10/dist-packages (from requests->transformers) (3.10)\n",
            "Requirement already satisfied: urllib3<3,>=1.21.1 in /usr/local/lib/python3.10/dist-packages (from requests->transformers) (2.2.3)\n",
            "Requirement already satisfied: certifi>=2017.4.17 in /usr/local/lib/python3.10/dist-packages (from requests->transformers) (2024.8.30)\n"
          ]
        }
      ]
    },
    {
      "cell_type": "code",
      "source": [
        "from transformers import BertTokenizer, BertForSequenceClassification\n",
        "\n",
        "# Load tokenizer and model\n",
        "tokenizer = BertTokenizer.from_pretrained(\"bert-base-uncased\")\n",
        "\n",
        "# Add a linear classification layer on top of BERT\n",
        "model = BertForSequenceClassification.from_pretrained(\"bert-base-uncased\", num_labels = 2)\n",
        "\n",
        "\n",
        "# tokenize a sample sentence\n",
        "text = \"PyTorch is great for neural networks!\"\n",
        "inputs = tokenizer(text, return_tensors = \"pt\", padding = True, truncation = True, max_length = 512)\n",
        "\n",
        "outputs = model(**inputs)\n",
        "print(\"Logits: \", outputs.logits)"
      ],
      "metadata": {
        "colab": {
          "base_uri": "https://localhost:8080/"
        },
        "id": "MWd4Adzfe5bQ",
        "outputId": "8b4abed5-5309-4338-a738-bd6ba0ad0fc4"
      },
      "execution_count": null,
      "outputs": [
        {
          "output_type": "stream",
          "name": "stderr",
          "text": [
            "Some weights of BertForSequenceClassification were not initialized from the model checkpoint at bert-base-uncased and are newly initialized: ['classifier.bias', 'classifier.weight']\n",
            "You should probably TRAIN this model on a down-stream task to be able to use it for predictions and inference.\n"
          ]
        },
        {
          "output_type": "stream",
          "name": "stdout",
          "text": [
            "Logits:  tensor([[-0.6568,  0.8689]], grad_fn=<AddmmBackward0>)\n"
          ]
        }
      ]
    },
    {
      "cell_type": "code",
      "source": [
        "print(outputs.logits.tolist())"
      ],
      "metadata": {
        "colab": {
          "base_uri": "https://localhost:8080/"
        },
        "id": "hi0fC9zZht19",
        "outputId": "6e1f583b-7205-462a-a763-daf771f05c3b"
      },
      "execution_count": null,
      "outputs": [
        {
          "output_type": "stream",
          "name": "stdout",
          "text": [
            "[[-0.6567812561988831, 0.8688869476318359]]\n"
          ]
        }
      ]
    },
    {
      "cell_type": "markdown",
      "source": [],
      "metadata": {
        "id": "4yrUfWKEigKW"
      }
    },
    {
      "cell_type": "code",
      "source": [
        "import torch\n",
        "import torch.nn as nn\n",
        "from torch.utils.data import DataLoader, Dataset\n",
        "\n",
        "class MyDataset(Dataset):\n",
        "  # def __init__(self, input_size / num_features, hidden_size, num_classes):\n",
        "  def __init__(self):\n",
        "    super(MyDataset, self).__init__()\n",
        "    # 100 samples with 5 features each\n",
        "    self.data = torch.rand(100, 5)\n",
        "\n",
        "    # labeled 0,1\n",
        "    self.labels = torch.randint(0, 2, (100,))\n",
        "\n",
        "\n",
        "  def __len__(self):\n",
        "    return len(self.data)\n",
        "\n",
        "\n",
        "  def __getitem__(self, idx):\n",
        "    # features, labels\n",
        "    return self.data[idx], self.labels[idx]"
      ],
      "metadata": {
        "id": "SNsJOLC2igWo"
      },
      "execution_count": null,
      "outputs": []
    },
    {
      "cell_type": "markdown",
      "source": [
        "CHECK FOR GPU PRESENCE"
      ],
      "metadata": {
        "id": "E4IjV_wMji-E"
      }
    },
    {
      "cell_type": "code",
      "source": [
        "device = torch.device(\"cuda\" if torch.cuda.is_available() else \"cpu\")\n",
        "tensor = torch.rand((2,2)).to(device)\n",
        "print(tensor.shape, tensor.dtype, tensor.device)\n",
        "tensor = torch.rand(2,2).to(device)\n",
        "print(tensor.shape, tensor.dtype, tensor.device)"
      ],
      "metadata": {
        "colab": {
          "base_uri": "https://localhost:8080/"
        },
        "id": "y6WpCFpOjkkQ",
        "outputId": "519cf6f0-cdb0-4f3a-818c-e8f4e978950e"
      },
      "execution_count": null,
      "outputs": [
        {
          "output_type": "stream",
          "name": "stdout",
          "text": [
            "torch.Size([2, 2]) torch.float32 cpu\n",
            "torch.Size([2, 2]) torch.float32 cpu\n"
          ]
        }
      ]
    },
    {
      "cell_type": "code",
      "source": [
        "# train_dataloader = Dataloader(training_data, batch_size = 64, shuffle = True)\n",
        "\n",
        "# train_features, train_labels = next(iter(train_dataloader))"
      ],
      "metadata": {
        "id": "r0-u5iwSHzMz"
      },
      "execution_count": null,
      "outputs": []
    },
    {
      "cell_type": "markdown",
      "source": [
        "OPENAI - QUESTIONS"
      ],
      "metadata": {
        "id": "JeUFlz3gOA-U"
      }
    },
    {
      "cell_type": "code",
      "source": [
        "import torch"
      ],
      "metadata": {
        "id": "EqaIZMD4PvHb"
      },
      "execution_count": null,
      "outputs": []
    },
    {
      "cell_type": "code",
      "source": [
        "## PROBLEM - 1\n",
        "\n",
        "def scale_and_add(matrix, vector, scale):\n",
        "  # matrix => size m x n\n",
        "\n",
        "  # scale all the elements of matrix by scale\n",
        "\n",
        "  matrix = matrix * scale\n",
        "\n",
        "  # add vector to each row of the scaled matrix\n",
        "\n",
        "  # broadcast\n",
        "  matrix = matrix + vector\n",
        "\n",
        "  return matrix\n",
        "\n",
        "\n",
        "# matrix = torch.rand((1,2))\n",
        "\n",
        "scale = torch.tensor(2)\n",
        "vector = torch.tensor([1, 1])\n",
        "matrix = torch.tensor([[1,2], [2,4]])\n",
        "print(scale_and_add(matrix, vector, scale))"
      ],
      "metadata": {
        "colab": {
          "base_uri": "https://localhost:8080/"
        },
        "id": "9tLS_LQWOCec",
        "outputId": "cb5d73ed-b262-409c-9b2f-ee938d37894e"
      },
      "execution_count": null,
      "outputs": [
        {
          "output_type": "stream",
          "name": "stdout",
          "text": [
            "tensor([[3, 5],\n",
            "        [5, 9]])\n"
          ]
        }
      ]
    },
    {
      "cell_type": "code",
      "source": [
        "## PROBLEM  - 2\n",
        "\n",
        "import torch\n",
        "from torch.utils.data import DataLoader, Dataset\n",
        "\n",
        "\n",
        "class SquareDataset(Dataset):\n",
        "  def __init__(self, n):\n",
        "    # num_samples = n, num_features = 1\n",
        "    self.data = torch.randint(1, 100, (n,))\n",
        "    self.labels = torch.tensor([x**2 for x in self.data])\n",
        "\n",
        "  def __len__(self):\n",
        "    return len(self.data)\n",
        "\n",
        "  def __getitem__(self, idx):\n",
        "    return self.data[idx], self.labels[idx]\n",
        "\n",
        "n = 3\n",
        "train_sd = SquareDataset(n)\n",
        "train_loader = DataLoader(train_sd, batch_size = 5, shuffle = True)\n",
        "\n",
        "# trainloader IS an iterator\n",
        "train_loader = next(iter(DataLoader(train_sd, batch_size = 5, shuffle = True)))\n",
        "\n",
        "\n",
        "print(train_loader[0])\n",
        "\n",
        "features, labels = train_loader\n",
        "print(features)\n",
        "print(labels)\n",
        "\n",
        "print(features.shape, features.dtype)"
      ],
      "metadata": {
        "colab": {
          "base_uri": "https://localhost:8080/"
        },
        "id": "nZ2i65_ZPJQE",
        "outputId": "1a7541d8-0312-4bf9-fc65-dbacd89e7eaa"
      },
      "execution_count": null,
      "outputs": [
        {
          "output_type": "stream",
          "name": "stdout",
          "text": [
            "tensor([54, 71, 26])\n",
            "tensor([54, 71, 26])\n",
            "tensor([2916, 5041,  676])\n",
            "torch.Size([3]) torch.int64\n"
          ]
        }
      ]
    },
    {
      "cell_type": "code",
      "source": [
        "# PROBLEM - 3\n",
        "\n",
        "import torch\n",
        "import torch.nn as nn\n",
        "\n",
        "class NeuralNet(nn.Module):\n",
        "  def __init__(self, input_size, hidden_size, num_classes):\n",
        "    super().__init__()\n",
        "    self.fc1 = nn.Linear(input_size, hidden_size)\n",
        "    self.fc2 = nn.Linear(hidden_size, num_classes)\n",
        "\n",
        "  def forward(self, x):\n",
        "    # nn.ReLU\n",
        "    x = torch.relu(self.fc1(x))\n",
        "    out = self.fc2(x)\n",
        "    return out\n",
        "\n",
        "\n",
        "model = NeuralNet(8, 32, 4)\n",
        "data_point = torch.rand((16, 8))\n",
        "\n",
        "out = model(data_point)\n",
        "\n",
        "print(out.shape)"
      ],
      "metadata": {
        "id": "NkGuOUKDSnyO",
        "colab": {
          "base_uri": "https://localhost:8080/"
        },
        "outputId": "6dabe605-ac90-405c-9ac2-ce8d202d8356"
      },
      "execution_count": null,
      "outputs": [
        {
          "output_type": "stream",
          "name": "stdout",
          "text": [
            "torch.Size([16, 4])\n"
          ]
        }
      ]
    },
    {
      "cell_type": "markdown",
      "source": [],
      "metadata": {
        "id": "y-EPzqFmhaYj"
      }
    },
    {
      "cell_type": "code",
      "source": [
        "x = torch.tensor(2.0, requires_grad= True)\n",
        "\n",
        "y = 3*x**3 + 2*x**2 + x\n",
        "\n",
        "# compute dy/dx\n",
        "y.backward()\n",
        "\n",
        "print(x.grad)"
      ],
      "metadata": {
        "colab": {
          "base_uri": "https://localhost:8080/"
        },
        "id": "ksCG3mMOhaiv",
        "outputId": "879222a1-cc2a-4c41-fd87-27f7f85809c5"
      },
      "execution_count": null,
      "outputs": [
        {
          "output_type": "stream",
          "name": "stdout",
          "text": [
            "tensor(45.)\n"
          ]
        }
      ]
    },
    {
      "cell_type": "code",
      "source": [
        "x = torch.rand((3,))\n",
        "x.requires_grad = True\n",
        "\n",
        "y = x**2 + 3*x + 5\n",
        "\n",
        "y.backward(torch.tensor([1.0, 1.0, 1.0]))\n",
        "\n",
        "print(x.grad)"
      ],
      "metadata": {
        "colab": {
          "base_uri": "https://localhost:8080/"
        },
        "id": "6OccvUhyiPSU",
        "outputId": "d088236d-cef9-4ac3-fbd9-1a7b01930066"
      },
      "execution_count": null,
      "outputs": [
        {
          "output_type": "stream",
          "name": "stdout",
          "text": [
            "tensor([3.9861, 4.6676, 4.0051])\n"
          ]
        }
      ]
    },
    {
      "cell_type": "markdown",
      "source": [],
      "metadata": {
        "id": "mVoIKXnoNlcb"
      }
    },
    {
      "cell_type": "code",
      "source": [
        "import torch"
      ],
      "metadata": {
        "id": "sWnnU6ZqNlmC"
      },
      "execution_count": null,
      "outputs": []
    },
    {
      "cell_type": "code",
      "source": [
        "# torch.rand(size)\n",
        "x = torch.rand(1)\n",
        "print(x.shape, x.dtype)"
      ],
      "metadata": {
        "colab": {
          "base_uri": "https://localhost:8080/"
        },
        "id": "5-v6QBeDiYcm",
        "outputId": "c1c76698-43b9-4bb8-a25d-11f03d487928"
      },
      "execution_count": null,
      "outputs": [
        {
          "output_type": "stream",
          "name": "stdout",
          "text": [
            "torch.Size([1]) torch.float32\n"
          ]
        }
      ]
    },
    {
      "cell_type": "markdown",
      "source": [
        "CNNs"
      ],
      "metadata": {
        "id": "ZX48WWTMYqxB"
      }
    },
    {
      "cell_type": "code",
      "source": [
        "import torch\n",
        "import torch.nn as nn\n",
        "\n",
        "class ConvSigmoidNet(nn.Module):\n",
        "  def __init__(self):\n",
        "    super().__init__()\n",
        "\n",
        "    # grayscale image => point[x,y] in the image has only single value\n",
        "    self.conv1 = nn.Conv2d(in_channels = 1, out_channels = 1, kernel_size =3, stride = 1, padding  = 1)\n",
        "\n",
        "    # Sigmoid is used for binary classification\n",
        "    self.sigmoid = nn.Sigmoid()\n",
        "\n",
        "\n",
        "  def forward(self,x):\n",
        "    x = self.conv1(x)\n",
        "    out = self.sigmoid(x)\n",
        "    return out\n",
        "\n",
        "# instantiate the model\n",
        "model = ConvSigmoidNet()\n",
        "\n",
        "# batch_size, channel, height, width\n",
        "input_tensor = torch.rand(1, 1, 5, 5)\n",
        "\n",
        "\n",
        "output = model(input_tensor)\n",
        "print(input_tensor.shape)\n",
        "print(output.shape)\n",
        "print(output)\n",
        "print(output.grad_fn)"
      ],
      "metadata": {
        "colab": {
          "base_uri": "https://localhost:8080/"
        },
        "id": "fcgCuRk9YrAu",
        "outputId": "487be1ac-f741-471a-ad44-883c677d723b"
      },
      "execution_count": null,
      "outputs": [
        {
          "output_type": "stream",
          "name": "stdout",
          "text": [
            "torch.Size([1, 1, 5, 5])\n",
            "torch.Size([1, 1, 5, 5])\n",
            "tensor([[[[0.5134, 0.4861, 0.4494, 0.4684, 0.4885],\n",
            "          [0.5042, 0.6183, 0.6421, 0.5537, 0.5715],\n",
            "          [0.5490, 0.5040, 0.4689, 0.5338, 0.5946],\n",
            "          [0.5433, 0.5409, 0.5765, 0.5397, 0.5106],\n",
            "          [0.5652, 0.5529, 0.5186, 0.5972, 0.5807]]]],\n",
            "       grad_fn=<SigmoidBackward0>)\n",
            "<SigmoidBackward0 object at 0x7ec451f98f70>\n"
          ]
        }
      ]
    },
    {
      "cell_type": "markdown",
      "source": [
        "RNN FOR SEQUENCE CLASSIFICATION"
      ],
      "metadata": {
        "id": "eqwkD2qISqg0"
      }
    },
    {
      "cell_type": "code",
      "source": [],
      "metadata": {
        "id": "euHSzzIYSq-Y"
      },
      "execution_count": null,
      "outputs": []
    },
    {
      "cell_type": "markdown",
      "source": [
        "TYG-1]"
      ],
      "metadata": {
        "id": "64MVfTTUILdv"
      }
    },
    {
      "cell_type": "code",
      "source": [
        "import torch\n",
        "import torch.nn as nn\n",
        "import torch.optim as optim\n",
        "import matplotlib.pyplot as plt\n",
        "\n",
        "# Define the neural network\n",
        "class NeuralNet(nn.Module):\n",
        "    def __init__(self, input_size, hidden_size, num_classes):\n",
        "        super(NeuralNet, self).__init__()\n",
        "        self.fc1 = nn.Linear(input_size, hidden_size)  # First layer\n",
        "        self.fc2 = nn.Linear(hidden_size, num_classes)  # Output layer\n",
        "        self.sigmoid = nn.Sigmoid()  # Activation for binary classification\n",
        "\n",
        "    def forward(self, x):\n",
        "        x = torch.relu(self.fc1(x))  # Apply ReLU to hidden layer\n",
        "        out = self.sigmoid(self.fc2(x))  # Apply Sigmoid to output\n",
        "        return out\n",
        "\n",
        "# Generate synthetic data\n",
        "torch.manual_seed(42)  # For reproducibility\n",
        "data = torch.rand(100, 2)  # 100 samples, 2 features each\n",
        "labels = torch.randint(0, 2, (100,)).float()  # Binary labels (0 or 1)\n",
        "\n",
        "# Define model, loss, and optimizer\n",
        "model = NeuralNet(input_size=2, hidden_size=10, num_classes=1)  # 1 output for binary classification\n",
        "criterion = nn.BCELoss()  # Binary Cross-Entropy Loss\n",
        "optimizer = optim.SGD(model.parameters(), lr=0.1)  # Stochastic Gradient Descent\n",
        "\n",
        "# Training loop\n",
        "losses = []\n",
        "epochs = 100\n",
        "for epoch in range(epochs):\n",
        "    # Forward pass\n",
        "    predictions = model(data)  # Predictions\n",
        "    loss = criterion(predictions.squeeze(), labels)  # Calculate loss\n",
        "\n",
        "    # Backward pass and optimization\n",
        "    optimizer.zero_grad()  # Clear previous gradients\n",
        "    loss.backward()  # Compute gradients\n",
        "    optimizer.step()  # Update weights\n",
        "\n",
        "    # Record loss\n",
        "    losses.append(loss.item())\n",
        "    if (epoch + 1) % 10 == 0:\n",
        "        print(f\"Epoch [{epoch+1}/{epochs}], Loss: {loss.item():.4f}\")\n",
        "\n",
        "# Plot loss over epochs\n",
        "plt.plot(losses)\n",
        "plt.xlabel(\"Epoch\")\n",
        "plt.ylabel(\"Loss\")\n",
        "plt.title(\"Training Loss\")\n",
        "plt.show()\n",
        "\n"
      ],
      "metadata": {
        "colab": {
          "base_uri": "https://localhost:8080/",
          "height": 646
        },
        "id": "PzL9r3w0ILzQ",
        "outputId": "2ff9ac79-56c2-4938-816d-062742b9588a"
      },
      "execution_count": null,
      "outputs": [
        {
          "output_type": "stream",
          "name": "stdout",
          "text": [
            "Epoch [10/100], Loss: 0.6902\n",
            "Epoch [20/100], Loss: 0.6885\n",
            "Epoch [30/100], Loss: 0.6874\n",
            "Epoch [40/100], Loss: 0.6867\n",
            "Epoch [50/100], Loss: 0.6860\n",
            "Epoch [60/100], Loss: 0.6855\n",
            "Epoch [70/100], Loss: 0.6849\n",
            "Epoch [80/100], Loss: 0.6844\n",
            "Epoch [90/100], Loss: 0.6839\n",
            "Epoch [100/100], Loss: 0.6835\n"
          ]
        },
        {
          "output_type": "display_data",
          "data": {
            "text/plain": [
              "<Figure size 640x480 with 1 Axes>"
            ],
            "image/png": "[encoded data removed]"
          },
          "metadata": {}
        }
      ]
    },
    {
      "cell_type": "markdown",
      "source": [],
      "metadata": {
        "id": "2anyfhahqS70"
      }
    },
    {
      "cell_type": "code",
      "source": [
        "import torch\n",
        "import torch.nn as nn\n",
        "import torch.optim as optim\n",
        "\n",
        "class NeuralNet(nn.Module):\n",
        "  def __init__(self, input_size, hidden_size, num_classes):\n",
        "    # init\n",
        "    super().__init__()\n",
        "\n",
        "    self.fc1 = nn.Linear(input_size, hidden_size)\n",
        "    self.fc2 = nn.Linear(hidden_size, num_classes)\n",
        "\n",
        "    # ReLU is used for hidden layers\n",
        "    self.relu = nn.ReLU\n",
        "\n",
        "    # Sigmoid is used for binary classification\n",
        "    self.sigmoid = nn.Sigmoid()\n",
        "\n",
        "  def forward(self, x):\n",
        "    x = self.fc1(x)\n",
        "    x = self.relu(x)\n",
        "    x = self.fc2(x)\n",
        "    out = self.sigmoid(x)\n",
        "\n",
        "    return out"
      ],
      "metadata": {
        "id": "RSSlqAYAqTLC"
      },
      "execution_count": null,
      "outputs": []
    },
    {
      "cell_type": "markdown",
      "source": [],
      "metadata": {
        "id": "YDpAMsL2i2E-"
      }
    },
    {
      "cell_type": "code",
      "source": [
        "!pip install torch torchvision"
      ],
      "metadata": {
        "colab": {
          "base_uri": "https://localhost:8080/"
        },
        "id": "Xd4Wj-CFjGyP",
        "outputId": "c992da62-fc81-40f2-f8ae-554fd5dbd0f2"
      },
      "execution_count": null,
      "outputs": [
        {
          "output_type": "stream",
          "name": "stdout",
          "text": [
            "Requirement already satisfied: torch in /usr/local/lib/python3.10/dist-packages (2.5.1+cu121)\n",
            "Requirement already satisfied: torchvision in /usr/local/lib/python3.10/dist-packages (0.20.1+cu121)\n",
            "Requirement already satisfied: filelock in /usr/local/lib/python3.10/dist-packages (from torch) (3.16.1)\n",
            "Requirement already satisfied: typing-extensions>=4.8.0 in /usr/local/lib/python3.10/dist-packages (from torch) (4.12.2)\n",
            "Requirement already satisfied: networkx in /usr/local/lib/python3.10/dist-packages (from torch) (3.4.2)\n",
            "Requirement already satisfied: jinja2 in /usr/local/lib/python3.10/dist-packages (from torch) (3.1.4)\n",
            "Requirement already satisfied: fsspec in /usr/local/lib/python3.10/dist-packages (from torch) (2024.10.0)\n",
            "Requirement already satisfied: sympy==1.13.1 in /usr/local/lib/python3.10/dist-packages (from torch) (1.13.1)\n",
            "Requirement already satisfied: mpmath<1.4,>=1.1.0 in /usr/local/lib/python3.10/dist-packages (from sympy==1.13.1->torch) (1.3.0)\n",
            "Requirement already satisfied: numpy in /usr/local/lib/python3.10/dist-packages (from torchvision) (1.26.4)\n",
            "Requirement already satisfied: pillow!=8.3.*,>=5.3.0 in /usr/local/lib/python3.10/dist-packages (from torchvision) (11.0.0)\n",
            "Requirement already satisfied: MarkupSafe>=2.0 in /usr/local/lib/python3.10/dist-packages (from jinja2->torch) (3.0.2)\n"
          ]
        }
      ]
    },
    {
      "cell_type": "code",
      "source": [
        "import torch\n",
        "import torch.nn as nn\n",
        "import torch.optim as optim\n",
        "\n",
        "from torch.utils.data import DataLoader, Dataset\n",
        "\n",
        "class MyDataset(Dataset):\n",
        "  def __init__(self):\n",
        "    self.data = []\n",
        "    self.labels = labels\n",
        "\n",
        "\n",
        "  def __len__(self):\n",
        "    return len(self.data)\n",
        "\n",
        "  def __getitem__(self, idx):\n",
        "    return self.data[idx], self.labels[idx]"
      ],
      "metadata": {
        "id": "l2BjB_3GjNen"
      },
      "execution_count": null,
      "outputs": []
    },
    {
      "cell_type": "code",
      "source": [
        "device = \"cuda\" if torch.cuda.is_available() else \"cpu\""
      ],
      "metadata": {
        "id": "YEnas1cEi2Ng"
      },
      "execution_count": null,
      "outputs": []
    },
    {
      "cell_type": "code",
      "source": [
        "print(device)"
      ],
      "metadata": {
        "colab": {
          "base_uri": "https://localhost:8080/"
        },
        "id": "z8WcdehijAqu",
        "outputId": "7139aab3-318c-4bb5-e51c-a3d97379db66"
      },
      "execution_count": null,
      "outputs": [
        {
          "output_type": "stream",
          "name": "stdout",
          "text": [
            "cuda\n"
          ]
        }
      ]
    },
    {
      "cell_type": "code",
      "source": [
        "# We have different shapes in PyTorch\n",
        "# This shape is a vector [we got scalars and matrix as well]\n",
        "\n",
        "tensor1 = torch.rand((5,))"
      ],
      "metadata": {
        "id": "U8sH9WdXjsi5"
      },
      "execution_count": null,
      "outputs": []
    },
    {
      "cell_type": "code",
      "source": [
        "print(tensor1.shape)\n",
        "print(tensor1.dtype)\n",
        "print(tensor1.device)"
      ],
      "metadata": {
        "colab": {
          "base_uri": "https://localhost:8080/"
        },
        "id": "LGqPk3COj4LK",
        "outputId": "843bfd8c-c1aa-4ee1-bd9d-262a51bb5fe4"
      },
      "execution_count": null,
      "outputs": [
        {
          "output_type": "stream",
          "name": "stdout",
          "text": [
            "torch.Size([5])\n",
            "torch.float32\n",
            "cpu\n"
          ]
        }
      ]
    },
    {
      "cell_type": "code",
      "source": [
        "print(tensor1.tolist())"
      ],
      "metadata": {
        "colab": {
          "base_uri": "https://localhost:8080/"
        },
        "id": "f91QkNIpkECH",
        "outputId": "2d6fd98a-c7e2-4f93-d1d7-914df9795d64"
      },
      "execution_count": null,
      "outputs": [
        {
          "output_type": "stream",
          "name": "stdout",
          "text": [
            "[0.8076955676078796, 0.06863945722579956, 0.23455482721328735, 0.8763377666473389, 0.3552449345588684]\n"
          ]
        }
      ]
    },
    {
      "cell_type": "code",
      "source": [
        "# define x as a scalar\n",
        "\n",
        "x = torch.rand(1)\n",
        "\n",
        "# set gradient accumulation to true\n",
        "# Now x's gradients would be tracked in the computation graph\n",
        "x.requires_grad = True\n",
        "\n",
        "y = x**2 + 3\n",
        "\n",
        "# compute dy/dx\n",
        "y.backward()\n",
        "\n",
        "print(x.grad)\n",
        "print(x.shape)\n",
        "print(x.dtype)\n",
        "print(x.tolist())\n",
        "print(x.ndim)"
      ],
      "metadata": {
        "colab": {
          "base_uri": "https://localhost:8080/"
        },
        "id": "-By5saNckRmk",
        "outputId": "4c83849e-7251-49ea-8131-250e8152fa39"
      },
      "execution_count": null,
      "outputs": [
        {
          "output_type": "stream",
          "name": "stdout",
          "text": [
            "tensor([1.7437])\n",
            "torch.Size([1])\n",
            "torch.float32\n",
            "[0.871849536895752]\n",
            "1\n"
          ]
        }
      ]
    },
    {
      "cell_type": "code",
      "source": [
        "class NeuralNet(nn.Module):\n",
        "  # input_layers [features] , hidden_layers [complexity], num_classes\n",
        "\n",
        "  def __init__(self, input_size, hidden_size, num_classes):\n",
        "    # nn.Linear + nn.ReLU\n",
        "    # nn.Sequential\n",
        "    self.fc1 = nn.Linear(input_size, hidden_size)\n",
        "    self.fc2 = nn.Linear(hidden_size, num_classes)\n",
        "\n",
        "    # Use a relu layer for learning between hidden layers\n",
        "    # Or it will just be a linear transformation\n",
        "    # Degrees of freedom of learning / complexity of the equation\n",
        "    self.relu = nn.ReLU()\n",
        "\n",
        "\n",
        "  # forward pass\n",
        "  # loss.backward() for the backward pass => uodating the weights\n",
        "  def forward(self, x):\n",
        "    x = self.fc1(x)\n",
        "    x = self.relu(x)\n",
        "    x = self.fc2(x)\n",
        "    out = self.relu(x)\n",
        "\n",
        "    return out"
      ],
      "metadata": {
        "id": "rSfTOWJEmcMd"
      },
      "execution_count": null,
      "outputs": []
    }
  ]
}